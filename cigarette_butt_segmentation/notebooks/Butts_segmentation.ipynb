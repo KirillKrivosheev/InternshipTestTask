{
  "nbformat": 4,
  "nbformat_minor": 0,
  "metadata": {
    "colab": {
      "name": "Butts_segmentation.ipynb",
      "provenance": [],
      "collapsed_sections": [],
      "toc_visible": true
    },
    "kernelspec": {
      "name": "python3",
      "display_name": "Python 3"
    },
    "accelerator": "GPU"
  },
  "cells": [
    {
      "cell_type": "markdown",
      "metadata": {
        "id": "1UcfuHy7AvGE",
        "colab_type": "text"
      },
      "source": [
        "Я работал в Google Colab. Запустим следующую клетку, чтобы получить доступ к датасету.\n"
      ]
    },
    {
      "cell_type": "code",
      "metadata": {
        "id": "RGcK1yWTaqvq",
        "colab_type": "code",
        "outputId": "4bdba01d-0629-44a2-f3f6-b7d1c13ffdd1",
        "colab": {
          "base_uri": "https://localhost:8080/",
          "height": 122
        }
      },
      "source": [
        "### read data\n",
        "from google.colab import drive        # in colab\n",
        "drive.mount('/content/drive')         # in colab"
      ],
      "execution_count": 1,
      "outputs": [
        {
          "output_type": "stream",
          "text": [
            "Go to this URL in a browser: https://accounts.google.com/o/oauth2/auth?client_id=947318989803-6bn6qk8qdgf4n4g3pfee6491hc0brc4i.apps.googleusercontent.com&redirect_uri=urn%3aietf%3awg%3aoauth%3a2.0%3aoob&response_type=code&scope=email%20https%3a%2f%2fwww.googleapis.com%2fauth%2fdocs.test%20https%3a%2f%2fwww.googleapis.com%2fauth%2fdrive%20https%3a%2f%2fwww.googleapis.com%2fauth%2fdrive.photos.readonly%20https%3a%2f%2fwww.googleapis.com%2fauth%2fpeopleapi.readonly\n",
            "\n",
            "Enter your authorization code:\n",
            "··········\n",
            "Mounted at /content/drive\n"
          ],
          "name": "stdout"
        }
      ]
    },
    {
      "cell_type": "code",
      "metadata": {
        "id": "lSMCgLg1WoLx",
        "colab_type": "code",
        "colab": {}
      },
      "source": [
        "### import\n",
        "\n",
        "import os\n",
        "os.chdir(\"./drive/My Drive/cigarette_butt_segmentation/notebooks\")  # in colab\n",
        "os.chdir(\"..\")"
      ],
      "execution_count": 0,
      "outputs": []
    },
    {
      "cell_type": "code",
      "metadata": {
        "id": "9eA5K1zadHfg",
        "colab_type": "code",
        "colab": {}
      },
      "source": [
        "### import\n",
        "\n",
        "\n",
        "import cv2\n",
        "import json\n",
        "import numpy as np\n",
        "import pandas as pd\n",
        "import matplotlib.pyplot as plt\n",
        "import torch\n",
        "from PIL import Image\n",
        "\n",
        "from glob import glob\n",
        "\n",
        "from lib import *\n",
        "\n",
        "%matplotlib inline"
      ],
      "execution_count": 0,
      "outputs": []
    },
    {
      "cell_type": "code",
      "metadata": {
        "id": "a7A2tihDQA_j",
        "colab_type": "code",
        "outputId": "f688e084-ac29-4316-96e8-bef6c132248d",
        "colab": {
          "base_uri": "https://localhost:8080/",
          "height": 34
        }
      },
      "source": [
        "print(os.path.abspath('.'))"
      ],
      "execution_count": 0,
      "outputs": [
        {
          "output_type": "stream",
          "text": [
            "/content/drive/My Drive/cigarette_butt_segmentation\n"
          ],
          "name": "stdout"
        }
      ]
    },
    {
      "cell_type": "code",
      "metadata": {
        "id": "O0D8W_eyas1H",
        "colab_type": "code",
        "outputId": "77c0ca0f-be97-42df-a189-267a151d93ea",
        "colab": {
          "base_uri": "https://localhost:8080/",
          "height": 51
        }
      },
      "source": [
        "### read data\n",
        "!unzip 'cig_butts/cig_butts.zip' -d 'data'"
      ],
      "execution_count": 0,
      "outputs": [
        {
          "output_type": "stream",
          "text": [
            "Archive:  cig_butts/cig_butts.zip\n",
            "replace data/cig_butts/val/images/00000001.png? [y]es, [n]o, [A]ll, [N]one, [r]ename: N\n"
          ],
          "name": "stdout"
        }
      ]
    },
    {
      "cell_type": "code",
      "metadata": {
        "id": "z_wkCk22s6-2",
        "colab_type": "code",
        "colab": {}
      },
      "source": [
        "### important constants\n",
        "\n",
        "path_train = \"data/cig_butts/train\"\n",
        "path_val = \"data/cig_butts/val\"\n",
        "dir_img = \"data/cig_butts/train/images\"\n",
        "\n",
        "annotations_train = json.load(open(f\"{path_train}/coco_annotations.json\", \"r\"))\n",
        "annotations_val= json.load(open(f\"{path_val}/coco_annotations.json\", \"r\"))"
      ],
      "execution_count": 0,
      "outputs": []
    },
    {
      "cell_type": "markdown",
      "metadata": {
        "id": "iN91J0i6BqKf",
        "colab_type": "text"
      },
      "source": [
        "Посмотрим на тренировочные данные. Отметим, что данные в train имеют расширение .jpg, а данные в val - расширение .png.\n"
      ]
    },
    {
      "cell_type": "code",
      "metadata": {
        "id": "99VKwtymdDjB",
        "colab_type": "code",
        "colab": {}
      },
      "source": [
        "### getting_started.py\n",
        "\n",
        "images = os.listdir(f\"{path_train}/images\")\n",
        "\n"
      ],
      "execution_count": 0,
      "outputs": []
    },
    {
      "cell_type": "markdown",
      "metadata": {
        "id": "9ONyXUyGB_S0",
        "colab_type": "text"
      },
      "source": [
        "Воспользуемся готовой реализацией Unet для Pytorch. Используемая сеть несколько отличается от описанной в оригинальной статье: она использует ненулевые паддинги и batchnorm. Модель написана в файлах lib/unet/unet_parts.py, lib/unet/unet_model.py.\n",
        "\n",
        "Функция train_net из lib/train.py используется для обучения сети. Важную роль играет также файл lib/dataset.py, в котором описан препроцессинг данных, который проводится перед началом обучения.\n"
      ]
    },
    {
      "cell_type": "code",
      "metadata": {
        "id": "b8cDZqRC1t6A",
        "colab_type": "code",
        "outputId": "c1150ef6-a682-432c-8574-c2bf74a9acc2",
        "colab": {
          "base_uri": "https://localhost:8080/",
          "height": 1000
        }
      },
      "source": [
        "### train net\n",
        "net_1 = UNet(n_channels = 3, n_classes = 1)\n",
        "\n",
        "device = torch.device('cuda:0' if torch.cuda.is_available() else 'cpu')\n",
        "net_1 = net_1.to(device)\n",
        "\n",
        "n_epochs = 3\n",
        "\n",
        "scores_val = train_net(net_1, device, batch_size = 1, lr = 0.0003, epochs = n_epochs, save_cp = False, step_size=1, gamma=0.33, pos_weight=65)\n",
        "\n"
      ],
      "execution_count": 6,
      "outputs": [
        {
          "output_type": "display_data",
          "data": {
            "text/html": [
              "<p style=\"color: red;\">\n",
              "The default version of TensorFlow in Colab will soon switch to TensorFlow 2.x.<br>\n",
              "We recommend you <a href=\"https://www.tensorflow.org/guide/migrate\" target=\"_blank\">upgrade</a> now \n",
              "or ensure your notebook will continue to use TensorFlow 1.x via the <code>%tensorflow_version 1.x</code> magic:\n",
              "<a href=\"https://colab.research.google.com/notebooks/tensorflow_version.ipynb\" target=\"_blank\">more info</a>.</p>\n"
            ],
            "text/plain": [
              "<IPython.core.display.HTML object>"
            ]
          },
          "metadata": {
            "tags": []
          }
        },
        {
          "output_type": "stream",
          "text": [
            "Epoch 1/3:  50%|█████     | 1000/2000 [01:11<00:57, 17.36img/s, loss (batch)=0.0776]\n",
            "Validation round:   0%|          | 0/200 [00:00<?, ?img/s]\u001b[A\n",
            "Validation round:   0%|          | 1/200 [00:00<02:27,  1.35img/s]\u001b[A\n",
            "Validation round:   1%|          | 2/200 [00:01<01:59,  1.65img/s]\u001b[A\n",
            "Validation round:   4%|▍         | 9/200 [00:01<01:22,  2.31img/s]\u001b[A\n",
            "Validation round:   6%|▌         | 11/200 [00:01<01:07,  2.78img/s]\u001b[A\n",
            "Validation round:   8%|▊         | 17/200 [00:01<00:47,  3.89img/s]\u001b[A\n",
            "Validation round:  10%|█         | 20/200 [00:02<00:38,  4.67img/s]\u001b[A\n",
            "Validation round:  13%|█▎        | 26/200 [00:02<00:30,  5.68img/s]\u001b[A\n",
            "Validation round:  16%|█▌        | 32/200 [00:03<00:27,  6.19img/s]\u001b[A\n",
            "Validation round:  17%|█▋        | 34/200 [00:05<01:07,  2.46img/s]\u001b[A\n",
            "Validation round:  19%|█▉        | 38/200 [00:05<00:47,  3.43img/s]\u001b[A\n",
            "Validation round:  21%|██        | 42/200 [00:05<00:36,  4.34img/s]\u001b[A\n",
            "Validation round:  24%|██▎       | 47/200 [00:05<00:25,  5.94img/s]\u001b[A\n",
            "Validation round:  25%|██▌       | 50/200 [00:06<00:22,  6.75img/s]\u001b[A\n",
            "Validation round:  28%|██▊       | 56/200 [00:06<00:15,  9.17img/s]\u001b[A\n",
            "Validation round:  30%|███       | 60/200 [00:06<00:15,  8.78img/s]\u001b[A\n",
            "Validation round:  33%|███▎      | 66/200 [00:07<00:13,  9.98img/s]\u001b[A\n",
            "Validation round:  34%|███▍      | 69/200 [00:07<00:11, 11.53img/s]\u001b[A\n",
            "Validation round:  37%|███▋      | 74/200 [00:07<00:10, 11.59img/s]\u001b[A\n",
            "Validation round:  38%|███▊      | 76/200 [00:07<00:09, 13.20img/s]\u001b[A\n",
            "Validation round:  41%|████      | 82/200 [00:08<00:08, 14.41img/s]\u001b[A\n",
            "Validation round:  43%|████▎     | 86/200 [00:08<00:06, 17.54img/s]\u001b[A\n",
            "Validation round:  45%|████▌     | 90/200 [00:08<00:07, 14.46img/s]\u001b[A\n",
            "Validation round:  48%|████▊     | 97/200 [00:08<00:05, 18.68img/s]\u001b[A\n",
            "Validation round:  50%|█████     | 101/200 [00:09<00:06, 15.84img/s]\u001b[A\n",
            "Validation round:  52%|█████▎    | 105/200 [00:09<00:05, 18.15img/s]\u001b[A\n",
            "Validation round:  54%|█████▍    | 108/200 [00:09<00:06, 14.17img/s]\u001b[A\n",
            "Validation round:  56%|█████▋    | 113/200 [00:09<00:04, 17.97img/s]\u001b[A\n",
            "Validation round:  58%|█████▊    | 116/200 [00:10<00:06, 12.65img/s]\u001b[A\n",
            "Validation round:  61%|██████    | 122/200 [00:10<00:05, 13.30img/s]\u001b[A\n",
            "Validation round:  64%|██████▎   | 127/200 [00:10<00:04, 16.83img/s]\u001b[A\n",
            "Validation round:  65%|██████▌   | 130/200 [00:11<00:05, 12.84img/s]\u001b[A\n",
            "Validation round:  68%|██████▊   | 136/200 [00:11<00:03, 16.66img/s]\u001b[A\n",
            "Validation round:  70%|███████   | 140/200 [00:11<00:04, 14.44img/s]\u001b[A\n",
            "Validation round:  72%|███████▎  | 145/200 [00:11<00:03, 16.08img/s]\u001b[A\n",
            "Validation round:  74%|███████▍  | 148/200 [00:12<00:03, 13.02img/s]\u001b[A\n",
            "Validation round:  77%|███████▋  | 154/200 [00:12<00:03, 13.05img/s]\u001b[A\n",
            "Validation round:  79%|███████▉  | 158/200 [00:12<00:02, 16.31img/s]\u001b[A\n",
            "Validation round:  81%|████████  | 162/200 [00:12<00:02, 14.89img/s]\u001b[A\n",
            "Validation round:  84%|████████▍ | 168/200 [00:13<00:01, 19.01img/s]\u001b[A\n",
            "Validation round:  86%|████████▌ | 172/200 [00:13<00:01, 15.07img/s]\u001b[A\n",
            "Validation round:  88%|████████▊ | 177/200 [00:13<00:01, 16.39img/s]\u001b[A\n",
            "Validation round:  90%|█████████ | 180/200 [00:13<00:01, 15.78img/s]\u001b[A\n",
            "Validation round:  92%|█████████▎| 185/200 [00:14<00:00, 17.06img/s]\u001b[A\n",
            "Validation round:  94%|█████████▍| 188/200 [00:14<00:00, 16.82img/s]\u001b[A\n",
            "Validation round:  95%|█████████▌| 190/200 [00:14<00:00, 12.78img/s]\u001b[A\n",
            "Validation round:  96%|█████████▋| 193/200 [00:14<00:00, 13.47img/s]\u001b[A\n",
            "Validation round:  98%|█████████▊| 197/200 [00:15<00:00, 12.02img/s]\u001b[A\n",
            "Epoch 1/3: 100%|█████████▉| 1999/2000 [02:28<00:00, 14.94img/s, loss (batch)=0.0849]\n",
            "Validation round:   0%|          | 0/200 [00:00<?, ?img/s]\u001b[A\n",
            "Validation round:   0%|          | 1/200 [00:00<01:39,  2.00img/s]\u001b[A\n",
            "Validation round:   2%|▎         | 5/200 [00:00<01:09,  2.79img/s]\u001b[A\n",
            "Validation round:   5%|▌         | 10/200 [00:00<00:48,  3.89img/s]\u001b[A\n",
            "Validation round:   7%|▋         | 14/200 [00:00<00:34,  5.33img/s]\u001b[A\n",
            "Validation round:  10%|▉         | 19/200 [00:00<00:24,  7.26img/s]\u001b[A\n",
            "Validation round:  12%|█▏        | 24/200 [00:01<00:18,  9.70img/s]\u001b[A\n",
            "Validation round:  14%|█▍        | 29/200 [00:01<00:13, 12.65img/s]\u001b[A\n",
            "Validation round:  18%|█▊        | 35/200 [00:01<00:10, 16.18img/s]\u001b[A\n",
            "Validation round:  20%|██        | 40/200 [00:01<00:08, 19.75img/s]\u001b[A\n",
            "Validation round:  22%|██▎       | 45/200 [00:01<00:06, 23.59img/s]\u001b[A\n",
            "Validation round:  25%|██▌       | 50/200 [00:01<00:05, 27.92img/s]\u001b[A\n",
            "Validation round:  28%|██▊       | 55/200 [00:01<00:04, 30.62img/s]\u001b[A\n",
            "Validation round:  30%|███       | 60/200 [00:01<00:04, 33.94img/s]\u001b[A\n",
            "Validation round:  32%|███▎      | 65/200 [00:01<00:03, 35.69img/s]\u001b[A\n",
            "Validation round:  35%|███▌      | 70/200 [00:02<00:03, 37.63img/s]\u001b[A\n",
            "Validation round:  38%|███▊      | 75/200 [00:02<00:03, 40.46img/s]\u001b[A\n",
            "Validation round:  40%|████      | 80/200 [00:02<00:02, 42.14img/s]\u001b[A\n",
            "Validation round:  42%|████▎     | 85/200 [00:02<00:02, 42.74img/s]\u001b[A\n",
            "Validation round:  45%|████▌     | 90/200 [00:02<00:02, 42.47img/s]\u001b[A\n",
            "Validation round:  48%|████▊     | 95/200 [00:02<00:02, 44.30img/s]\u001b[A\n",
            "Validation round:  50%|█████     | 100/200 [00:02<00:02, 43.57img/s]\u001b[A\n",
            "Validation round:  53%|█████▎    | 106/200 [00:02<00:02, 45.30img/s]\u001b[A\n",
            "Validation round:  56%|█████▌    | 111/200 [00:03<00:02, 44.03img/s]\u001b[A\n",
            "Validation round:  58%|█████▊    | 117/200 [00:03<00:01, 46.15img/s]\u001b[A\n",
            "Validation round:  61%|██████    | 122/200 [00:03<00:01, 45.23img/s]\u001b[A\n",
            "Validation round:  64%|██████▍   | 128/200 [00:03<00:01, 44.77img/s]\u001b[A\n",
            "Validation round:  66%|██████▋   | 133/200 [00:03<00:01, 45.88img/s]\u001b[A\n",
            "Validation round:  69%|██████▉   | 138/200 [00:03<00:01, 46.04img/s]\u001b[A\n",
            "Validation round:  72%|███████▏  | 143/200 [00:03<00:01, 45.39img/s]\u001b[A\n",
            "Validation round:  74%|███████▍  | 149/200 [00:03<00:01, 45.03img/s]\u001b[A\n",
            "Validation round:  77%|███████▋  | 154/200 [00:03<00:01, 44.98img/s]\u001b[A\n",
            "Validation round:  80%|███████▉  | 159/200 [00:04<00:00, 44.50img/s]\u001b[A\n",
            "Validation round:  82%|████████▎ | 165/200 [00:04<00:00, 45.76img/s]\u001b[A\n",
            "Validation round:  85%|████████▌ | 170/200 [00:04<00:00, 44.38img/s]\u001b[A\n",
            "Validation round:  88%|████████▊ | 175/200 [00:04<00:00, 42.69img/s]\u001b[A\n",
            "Validation round:  90%|█████████ | 180/200 [00:04<00:00, 44.33img/s]\u001b[A\n",
            "Validation round:  92%|█████████▎| 185/200 [00:04<00:00, 44.88img/s]\u001b[A\n",
            "Validation round:  96%|█████████▌| 191/200 [00:04<00:00, 48.11img/s]\u001b[A\n",
            "Validation round:  99%|█████████▉| 198/200 [00:04<00:00, 51.79img/s]\u001b[A\n",
            "Epoch 1/3: 100%|██████████| 2000/2000 [02:33<00:00, 13.04img/s, loss (batch)=0.0849]\n",
            "Epoch 2/3:  50%|█████     | 1000/2000 [00:56<00:56, 17.69img/s, loss (batch)=0.0341]\n",
            "Validation round:   0%|          | 0/200 [00:00<?, ?img/s]\u001b[A\n",
            "Validation round:   0%|          | 1/200 [00:00<01:29,  2.22img/s]\u001b[A\n",
            "Validation round:   2%|▏         | 4/200 [00:00<01:03,  3.07img/s]\u001b[A\n",
            "Validation round:   4%|▍         | 9/200 [00:00<00:44,  4.25img/s]\u001b[A\n",
            "Validation round:   7%|▋         | 14/200 [00:00<00:31,  5.84img/s]\u001b[A\n",
            "Validation round:  10%|▉         | 19/200 [00:00<00:22,  7.93img/s]\u001b[A\n",
            "Validation round:  12%|█▏        | 24/200 [00:00<00:16, 10.60img/s]\u001b[A\n",
            "Validation round:  14%|█▍        | 29/200 [00:01<00:12, 13.72img/s]\u001b[A\n",
            "Validation round:  17%|█▋        | 34/200 [00:01<00:09, 17.14img/s]\u001b[A\n",
            "Validation round:  20%|██        | 40/200 [00:01<00:07, 21.12img/s]\u001b[A\n",
            "Validation round:  22%|██▎       | 45/200 [00:01<00:06, 25.30img/s]\u001b[A\n",
            "Validation round:  25%|██▌       | 50/200 [00:01<00:05, 28.49img/s]\u001b[A\n",
            "Validation round:  28%|██▊       | 55/200 [00:01<00:04, 31.87img/s]\u001b[A\n",
            "Validation round:  30%|███       | 60/200 [00:01<00:03, 35.61img/s]\u001b[A\n",
            "Validation round:  32%|███▎      | 65/200 [00:01<00:03, 38.83img/s]\u001b[A\n",
            "Validation round:  35%|███▌      | 70/200 [00:02<00:03, 39.84img/s]\u001b[A\n",
            "Validation round:  38%|███▊      | 75/200 [00:02<00:03, 41.60img/s]\u001b[A\n",
            "Validation round:  40%|████      | 80/200 [00:02<00:02, 42.42img/s]\u001b[A\n",
            "Validation round:  42%|████▎     | 85/200 [00:02<00:02, 42.92img/s]\u001b[A\n",
            "Validation round:  45%|████▌     | 90/200 [00:02<00:02, 42.52img/s]\u001b[A\n",
            "Validation round:  48%|████▊     | 95/200 [00:02<00:02, 43.10img/s]\u001b[A\n",
            "Validation round:  50%|█████     | 101/200 [00:02<00:02, 45.07img/s]\u001b[A\n",
            "Validation round:  53%|█████▎    | 106/200 [00:02<00:02, 45.13img/s]\u001b[A\n",
            "Validation round:  56%|█████▌    | 112/200 [00:02<00:01, 46.80img/s]\u001b[A\n",
            "Validation round:  58%|█████▊    | 117/200 [00:03<00:01, 43.42img/s]\u001b[A\n",
            "Validation round:  61%|██████    | 122/200 [00:03<00:01, 43.91img/s]\u001b[A\n",
            "Validation round:  64%|██████▎   | 127/200 [00:03<00:01, 44.82img/s]\u001b[A\n",
            "Validation round:  66%|██████▌   | 132/200 [00:03<00:01, 45.24img/s]\u001b[A\n",
            "Validation round:  68%|██████▊   | 137/200 [00:03<00:01, 42.11img/s]\u001b[A\n",
            "Validation round:  71%|███████   | 142/200 [00:03<00:01, 42.97img/s]\u001b[A\n",
            "Validation round:  74%|███████▎  | 147/200 [00:03<00:01, 44.76img/s]\u001b[A\n",
            "Validation round:  76%|███████▌  | 152/200 [00:03<00:01, 44.17img/s]\u001b[A\n",
            "Validation round:  78%|███████▊  | 157/200 [00:03<00:00, 44.15img/s]\u001b[A\n",
            "Validation round:  81%|████████  | 162/200 [00:04<00:00, 44.91img/s]\u001b[A\n",
            "Validation round:  84%|████████▍ | 168/200 [00:04<00:00, 46.45img/s]\u001b[A\n",
            "Validation round:  86%|████████▋ | 173/200 [00:04<00:00, 42.86img/s]\u001b[A\n",
            "Validation round:  89%|████████▉ | 178/200 [00:04<00:00, 43.39img/s]\u001b[A\n",
            "Validation round:  92%|█████████▏| 183/200 [00:04<00:00, 44.84img/s]\u001b[A\n",
            "Validation round:  94%|█████████▍| 188/200 [00:04<00:00, 45.80img/s]\u001b[A\n",
            "Validation round:  98%|█████████▊| 195/200 [00:04<00:00, 49.63img/s]\u001b[A\n",
            "Epoch 2/3: 100%|█████████▉| 1999/2000 [01:54<00:00, 19.30img/s, loss (batch)=0.0394]\n",
            "Validation round:   0%|          | 0/200 [00:00<?, ?img/s]\u001b[A\n",
            "Validation round:   0%|          | 1/200 [00:00<01:13,  2.72img/s]\u001b[A\n",
            "Validation round:   1%|          | 2/200 [00:00<00:57,  3.44img/s]\u001b[A\n",
            "Validation round:   2%|▏         | 4/200 [00:00<00:43,  4.56img/s]\u001b[A\n",
            "Validation round:   4%|▍         | 9/200 [00:00<00:30,  6.25img/s]\u001b[A\n",
            "Validation round:   6%|▋         | 13/200 [00:00<00:22,  8.37img/s]\u001b[A\n",
            "Validation round:  10%|▉         | 19/200 [00:00<00:16, 11.25img/s]\u001b[A\n",
            "Validation round:  12%|█▏        | 23/200 [00:01<00:12, 13.92img/s]\u001b[A\n",
            "Validation round:  14%|█▍        | 28/200 [00:01<00:09, 17.62img/s]\u001b[A\n",
            "Validation round:  16%|█▋        | 33/200 [00:01<00:07, 21.59img/s]\u001b[A\n",
            "Validation round:  20%|█▉        | 39/200 [00:01<00:06, 26.22img/s]\u001b[A\n",
            "Validation round:  22%|██▏       | 44/200 [00:01<00:05, 28.87img/s]\u001b[A\n",
            "Validation round:  24%|██▍       | 49/200 [00:01<00:04, 32.18img/s]\u001b[A\n",
            "Validation round:  27%|██▋       | 54/200 [00:01<00:04, 35.55img/s]\u001b[A\n",
            "Validation round:  30%|██▉       | 59/200 [00:01<00:03, 37.87img/s]\u001b[A\n",
            "Validation round:  32%|███▏      | 64/200 [00:01<00:03, 40.31img/s]\u001b[A\n",
            "Validation round:  34%|███▍      | 69/200 [00:02<00:03, 40.72img/s]\u001b[A\n",
            "Validation round:  37%|███▋      | 74/200 [00:02<00:02, 43.08img/s]\u001b[A\n",
            "Validation round:  40%|███▉      | 79/200 [00:02<00:03, 39.75img/s]\u001b[A\n",
            "Validation round:  42%|████▏     | 84/200 [00:02<00:02, 41.74img/s]\u001b[A\n",
            "Validation round:  45%|████▌     | 90/200 [00:02<00:02, 44.42img/s]\u001b[A\n",
            "Validation round:  48%|████▊     | 95/200 [00:02<00:02, 45.24img/s]\u001b[A\n",
            "Validation round:  50%|█████     | 100/200 [00:02<00:02, 43.38img/s]\u001b[A\n",
            "Validation round:  53%|█████▎    | 106/200 [00:02<00:02, 46.74img/s]\u001b[A\n",
            "Validation round:  56%|█████▌    | 111/200 [00:02<00:02, 42.43img/s]\u001b[A\n",
            "Validation round:  58%|█████▊    | 117/200 [00:03<00:01, 45.98img/s]\u001b[A\n",
            "Validation round:  61%|██████    | 122/200 [00:03<00:01, 44.77img/s]\u001b[A\n",
            "Validation round:  64%|██████▎   | 127/200 [00:03<00:01, 44.38img/s]\u001b[A\n",
            "Validation round:  66%|██████▌   | 132/200 [00:03<00:01, 44.57img/s]\u001b[A\n",
            "Validation round:  68%|██████▊   | 137/200 [00:03<00:01, 45.46img/s]\u001b[A\n",
            "Validation round:  71%|███████   | 142/200 [00:03<00:01, 44.82img/s]\u001b[A\n",
            "Validation round:  74%|███████▎  | 147/200 [00:03<00:01, 45.21img/s]\u001b[A\n",
            "Validation round:  76%|███████▌  | 152/200 [00:03<00:01, 43.92img/s]\u001b[A\n",
            "Validation round:  79%|███████▉  | 158/200 [00:04<00:00, 45.73img/s]\u001b[A\n",
            "Validation round:  82%|████████▏ | 163/200 [00:04<00:00, 45.45img/s]\u001b[A\n",
            "Validation round:  84%|████████▍ | 168/200 [00:04<00:00, 44.02img/s]\u001b[A\n",
            "Validation round:  86%|████████▋ | 173/200 [00:04<00:00, 43.88img/s]\u001b[A\n",
            "Validation round:  90%|████████▉ | 179/200 [00:04<00:00, 45.75img/s]\u001b[A\n",
            "Validation round:  92%|█████████▏| 184/200 [00:04<00:00, 41.33img/s]\u001b[A\n",
            "Validation round:  96%|█████████▌| 191/200 [00:04<00:00, 46.33img/s]\u001b[A\n",
            "Validation round:  99%|█████████▉| 198/200 [00:04<00:00, 50.18img/s]\u001b[A\n",
            "Epoch 2/3: 100%|██████████| 2000/2000 [01:59<00:00, 16.76img/s, loss (batch)=0.0394]\n",
            "Epoch 3/3:  50%|████▉     | 999/2000 [00:56<00:57, 17.56img/s, loss (batch)=0.0362]\n",
            "Validation round:   0%|          | 0/200 [00:00<?, ?img/s]\u001b[A\n",
            "Validation round:   0%|          | 1/200 [00:00<01:24,  2.37img/s]\u001b[A\n",
            "Validation round:   2%|▏         | 3/200 [00:00<01:01,  3.20img/s]\u001b[A\n",
            "Validation round:   4%|▎         | 7/200 [00:00<00:43,  4.41img/s]\u001b[A\n",
            "Validation round:   6%|▌         | 12/200 [00:00<00:31,  6.02img/s]\u001b[A\n",
            "Validation round:   8%|▊         | 17/200 [00:00<00:22,  8.14img/s]\u001b[A\n",
            "Validation round:  11%|█         | 22/200 [00:00<00:16, 10.80img/s]\u001b[A\n",
            "Validation round:  14%|█▍        | 28/200 [00:01<00:12, 14.03img/s]\u001b[A\n",
            "Validation round:  16%|█▋        | 33/200 [00:01<00:09, 17.72img/s]\u001b[A\n",
            "Validation round:  19%|█▉        | 38/200 [00:01<00:07, 21.75img/s]\u001b[A\n",
            "Validation round:  22%|██▏       | 43/200 [00:01<00:06, 26.07img/s]\u001b[A\n",
            "Validation round:  24%|██▍       | 48/200 [00:01<00:05, 30.04img/s]\u001b[A\n",
            "Validation round:  26%|██▋       | 53/200 [00:01<00:04, 33.66img/s]\u001b[A\n",
            "Validation round:  29%|██▉       | 58/200 [00:01<00:03, 35.78img/s]\u001b[A\n",
            "Validation round:  32%|███▏      | 64/200 [00:01<00:03, 38.97img/s]\u001b[A\n",
            "Validation round:  34%|███▍      | 69/200 [00:02<00:03, 39.15img/s]\u001b[A\n",
            "Validation round:  37%|███▋      | 74/200 [00:02<00:03, 40.61img/s]\u001b[A\n",
            "Validation round:  40%|███▉      | 79/200 [00:02<00:02, 42.97img/s]\u001b[A\n",
            "Validation round:  42%|████▏     | 84/200 [00:02<00:02, 42.29img/s]\u001b[A\n",
            "Validation round:  44%|████▍     | 89/200 [00:02<00:02, 42.75img/s]\u001b[A\n",
            "Validation round:  48%|████▊     | 95/200 [00:02<00:02, 44.53img/s]\u001b[A\n",
            "Validation round:  50%|█████     | 100/200 [00:02<00:02, 45.48img/s]\u001b[A\n",
            "Validation round:  52%|█████▎    | 105/200 [00:02<00:02, 44.39img/s]\u001b[A\n",
            "Validation round:  55%|█████▌    | 110/200 [00:02<00:02, 44.45img/s]\u001b[A\n",
            "Validation round:  57%|█████▊    | 115/200 [00:03<00:01, 44.93img/s]\u001b[A\n",
            "Validation round:  60%|██████    | 121/200 [00:03<00:01, 47.06img/s]\u001b[A\n",
            "Validation round:  63%|██████▎   | 126/200 [00:03<00:01, 45.30img/s]\u001b[A\n",
            "Validation round:  66%|██████▌   | 131/200 [00:03<00:01, 44.86img/s]\u001b[A\n",
            "Validation round:  68%|██████▊   | 136/200 [00:03<00:01, 45.23img/s]\u001b[A\n",
            "Validation round:  70%|███████   | 141/200 [00:03<00:01, 45.39img/s]\u001b[A\n",
            "Validation round:  73%|███████▎  | 146/200 [00:03<00:01, 46.57img/s]\u001b[A\n",
            "Validation round:  76%|███████▌  | 152/200 [00:03<00:01, 46.84img/s]\u001b[A\n",
            "Validation round:  79%|███████▉  | 158/200 [00:03<00:00, 48.01img/s]\u001b[A\n",
            "Validation round:  82%|████████▏ | 163/200 [00:04<00:00, 43.78img/s]\u001b[A\n",
            "Validation round:  84%|████████▍ | 168/200 [00:04<00:00, 42.99img/s]\u001b[A\n",
            "Validation round:  86%|████████▋ | 173/200 [00:04<00:00, 44.69img/s]\u001b[A\n",
            "Validation round:  89%|████████▉ | 178/200 [00:04<00:00, 42.57img/s]\u001b[A\n",
            "Validation round:  92%|█████████▏| 183/200 [00:04<00:00, 43.53img/s]\u001b[A\n",
            "Validation round:  94%|█████████▍| 189/200 [00:04<00:00, 47.22img/s]\u001b[A\n",
            "Validation round:  98%|█████████▊| 196/200 [00:04<00:00, 50.80img/s]\u001b[A\n",
            "Epoch 3/3: 100%|█████████▉| 1999/2000 [01:54<00:00, 19.20img/s, loss (batch)=0.04] \n",
            "Validation round:   0%|          | 0/200 [00:00<?, ?img/s]\u001b[A\n",
            "Validation round:   0%|          | 1/200 [00:00<01:27,  2.28img/s]\u001b[A\n",
            "Validation round:   2%|▏         | 4/200 [00:00<01:02,  3.13img/s]\u001b[A\n",
            "Validation round:   4%|▍         | 9/200 [00:00<00:43,  4.35img/s]\u001b[A\n",
            "Validation round:   6%|▋         | 13/200 [00:00<00:31,  5.91img/s]\u001b[A\n",
            "Validation round:   9%|▉         | 18/200 [00:00<00:22,  8.00img/s]\u001b[A\n",
            "Validation round:  12%|█▏        | 23/200 [00:00<00:16, 10.65img/s]\u001b[A\n",
            "Validation round:  14%|█▍        | 28/200 [00:01<00:12, 13.82img/s]\u001b[A\n",
            "Validation round:  17%|█▋        | 34/200 [00:01<00:09, 17.61img/s]\u001b[A\n",
            "Validation round:  20%|█▉        | 39/200 [00:01<00:07, 21.28img/s]\u001b[A\n",
            "Validation round:  22%|██▏       | 44/200 [00:01<00:06, 24.99img/s]\u001b[A\n",
            "Validation round:  25%|██▌       | 50/200 [00:01<00:05, 29.74img/s]\u001b[A\n",
            "Validation round:  28%|██▊       | 55/200 [00:01<00:04, 30.93img/s]\u001b[A\n",
            "Validation round:  30%|███       | 60/200 [00:01<00:04, 34.76img/s]\u001b[A\n",
            "Validation round:  32%|███▎      | 65/200 [00:01<00:03, 37.41img/s]\u001b[A\n",
            "Validation round:  35%|███▌      | 70/200 [00:02<00:03, 37.41img/s]\u001b[A\n",
            "Validation round:  38%|███▊      | 75/200 [00:02<00:03, 39.70img/s]\u001b[A\n",
            "Validation round:  40%|████      | 80/200 [00:02<00:02, 40.41img/s]\u001b[A\n",
            "Validation round:  43%|████▎     | 86/200 [00:02<00:02, 43.12img/s]\u001b[A\n",
            "Validation round:  46%|████▌     | 91/200 [00:02<00:02, 40.68img/s]\u001b[A\n",
            "Validation round:  48%|████▊     | 97/200 [00:02<00:02, 43.42img/s]\u001b[A\n",
            "Validation round:  51%|█████     | 102/200 [00:02<00:02, 41.61img/s]\u001b[A\n",
            "Validation round:  54%|█████▎    | 107/200 [00:02<00:02, 42.09img/s]\u001b[A\n",
            "Validation round:  56%|█████▌    | 112/200 [00:03<00:02, 43.18img/s]\u001b[A\n",
            "Validation round:  58%|█████▊    | 117/200 [00:03<00:01, 43.59img/s]\u001b[A\n",
            "Validation round:  61%|██████    | 122/200 [00:03<00:01, 44.13img/s]\u001b[A\n",
            "Validation round:  64%|██████▍   | 128/200 [00:03<00:01, 44.45img/s]\u001b[A\n",
            "Validation round:  67%|██████▋   | 134/200 [00:03<00:01, 46.63img/s]\u001b[A\n",
            "Validation round:  70%|██████▉   | 139/200 [00:03<00:01, 43.41img/s]\u001b[A\n",
            "Validation round:  72%|███████▎  | 145/200 [00:03<00:01, 46.66img/s]\u001b[A\n",
            "Validation round:  75%|███████▌  | 150/200 [00:03<00:01, 43.38img/s]\u001b[A\n",
            "Validation round:  78%|███████▊  | 155/200 [00:03<00:01, 42.64img/s]\u001b[A\n",
            "Validation round:  80%|████████  | 161/200 [00:04<00:00, 45.36img/s]\u001b[A\n",
            "Validation round:  83%|████████▎ | 166/200 [00:04<00:00, 44.45img/s]\u001b[A\n",
            "Validation round:  86%|████████▌ | 171/200 [00:04<00:00, 44.42img/s]\u001b[A\n",
            "Validation round:  88%|████████▊ | 176/200 [00:04<00:00, 43.78img/s]\u001b[A\n",
            "Validation round:  91%|█████████ | 182/200 [00:04<00:00, 46.07img/s]\u001b[A\n",
            "Validation round:  94%|█████████▍| 188/200 [00:04<00:00, 47.66img/s]\u001b[A\n",
            "Validation round:  98%|█████████▊| 195/200 [00:04<00:00, 51.52img/s]\u001b[A\n",
            "Epoch 3/3: 100%|██████████| 2000/2000 [01:59<00:00, 16.77img/s, loss (batch)=0.04]\n"
          ],
          "name": "stderr"
        }
      ]
    },
    {
      "cell_type": "markdown",
      "metadata": {
        "id": "8dpCUAWmDkWt",
        "colab_type": "text"
      },
      "source": [
        "Вычислим метрику Dice coefficient на валидационном датасете."
      ]
    },
    {
      "cell_type": "code",
      "metadata": {
        "id": "FL0T1dt-M9Ns",
        "colab_type": "code",
        "outputId": "b9fdb47f-7ad8-4ff0-fffc-e0f7b5ca11a1",
        "colab": {
          "base_uri": "https://localhost:8080/",
          "height": 34
        }
      },
      "source": [
        "### metric on val\n",
        "\n",
        "paths_to_imgs = sorted(glob(\"data/cig_butts/val/images/*\"))\n",
        "img_ids = [int(path.split(\"/\")[-1].split(\".\")[0]) for path in paths_to_imgs]\n",
        "\n",
        "pred_val = [predict_img(net_1, Image.open(f\"{path_val}/images/{img_id:08}.png\"), device, out_threshold = 0.5) for img_id in sorted(img_ids)]\n",
        "true_val = [get_mask(img_id,  annotations_val) for img_id in sorted(img_ids)]\n",
        "\n",
        "get_dice(true_val, pred_val)"
      ],
      "execution_count": 0,
      "outputs": [
        {
          "output_type": "execute_result",
          "data": {
            "text/plain": [
              "0.5431670870714427"
            ]
          },
          "metadata": {
            "tags": []
          },
          "execution_count": 7
        }
      ]
    },
    {
      "cell_type": "markdown",
      "metadata": {
        "id": "c_RwDuO1D2ZY",
        "colab_type": "text"
      },
      "source": [
        "График зависимости dice coefficient на валидации от номера эпохи. Он не очень информативен, поскольку обучение длилось всего 3 эпохи.\n",
        "Я считал метрику на валидации по два раза за одну эпоху.\n",
        "\n"
      ]
    },
    {
      "cell_type": "code",
      "metadata": {
        "id": "IzxjLdnSerO3",
        "colab_type": "code",
        "outputId": "e5c53539-2ba0-4423-99ef-7e00b95a4e75",
        "colab": {
          "base_uri": "https://localhost:8080/",
          "height": 296
        }
      },
      "source": [
        "### metrics on val\n",
        "num_epochs = [0.5*(i + 1)  for i in range(2*n_epochs)]\n",
        "plt.plot(num_epochs, scores_val)\n",
        "\n",
        "plt.ylabel('dice')\n",
        "plt.xlabel('num_epoch')\n",
        "plt.title('Metric on validation')\n",
        "\n",
        "plt.show()"
      ],
      "execution_count": 0,
      "outputs": [
        {
          "output_type": "display_data",
          "data": {
            "image/png": "[encoded data removed]",
            "text/plain": [
              "<Figure size 432x288 with 1 Axes>"
            ]
          },
          "metadata": {
            "tags": []
          }
        }
      ]
    },
    {
      "cell_type": "markdown",
      "metadata": {
        "id": "YL6oIW6sFJ55",
        "colab_type": "text"
      },
      "source": [
        "Создадим .html файл и папку example с результатами работы на тестовых данных.\n"
      ]
    },
    {
      "cell_type": "code",
      "metadata": {
        "id": "uhlrraqNfv-g",
        "colab_type": "code",
        "colab": {}
      },
      "source": [
        "### results test\n",
        "\n",
        "path_test = 'data/cig_butts/real_test'\n",
        "paths_to_imgs = sorted(glob(\"data/cig_butts/real_test/*\"))\n",
        "img_ids = [int(path.split(\"/\")[-1].split(\".\")[0]) for path in paths_to_imgs]\n",
        "\n",
        "pred_masks = [predict_img(net_1, Image.open(f\"{path_test}/{img_id:04}.JPG\"), device, out_threshold = 0.5) for img_id in sorted(img_ids)]\n",
        "_ = get_html(paths_to_imgs, pred_masks, path_to_save=\"results/example\")"
      ],
      "execution_count": 0,
      "outputs": []
    },
    {
      "cell_type": "markdown",
      "metadata": {
        "id": "DNq3Yy9WFz8u",
        "colab_type": "text"
      },
      "source": [
        "Создадим файл pred_val.csv с результатами на валидационном датасете.\n"
      ]
    },
    {
      "cell_type": "code",
      "metadata": {
        "id": "rYdFXjPpqk16",
        "colab_type": "code",
        "colab": {}
      },
      "source": [
        "### results val\n",
        "\n",
        "#annotations_val = json.load(open(f\"data/cig_butts/val/coco_annotations.json\", \"r\"))\n",
        "paths_to_imgs = sorted(glob(\"data/cig_butts/val/images/*\"))\n",
        "img_ids = [int(path.split(\"/\")[-1].split(\".\")[0]) for path in paths_to_imgs]\n",
        "encoded_masks = [encode_rle(predict_img(net_1, Image.open(f\"{path_val}/images/{img_id:08}.png\"), device, out_threshold = 0.5)) for img_id in sorted(img_ids)]\n"
      ],
      "execution_count": 0,
      "outputs": []
    },
    {
      "cell_type": "code",
      "metadata": {
        "id": "SXUsIQ0tpvlu",
        "colab_type": "code",
        "colab": {}
      },
      "source": [
        "### results val\n",
        "\n",
        "dict = {'img_id': img_ids, 'rle_mask': encoded_masks}\n",
        "df = pd.DataFrame(dict) \n",
        "      \n",
        "    \n",
        "df.to_csv(\"data/pred_val_template.csv\", index=False)"
      ],
      "execution_count": 0,
      "outputs": []
    },
    {
      "cell_type": "code",
      "metadata": {
        "id": "Rvm-SHoItSr0",
        "colab_type": "code",
        "outputId": "81d6ac54-3101-44f8-b1c2-faa12db9acc0",
        "colab": {
          "base_uri": "https://localhost:8080/",
          "height": 204
        }
      },
      "source": [
        "### results val\n",
        "\n",
        "pred = pd.read_csv(\"data/pred_val_template.csv\")\n",
        "pred.head()"
      ],
      "execution_count": 0,
      "outputs": [
        {
          "output_type": "execute_result",
          "data": {
            "text/html": [
              "<div>\n",
              "<style scoped>\n",
              "    .dataframe tbody tr th:only-of-type {\n",
              "        vertical-align: middle;\n",
              "    }\n",
              "\n",
              "    .dataframe tbody tr th {\n",
              "        vertical-align: top;\n",
              "    }\n",
              "\n",
              "    .dataframe thead th {\n",
              "        text-align: right;\n",
              "    }\n",
              "</style>\n",
              "<table border=\"1\" class=\"dataframe\">\n",
              "  <thead>\n",
              "    <tr style=\"text-align: right;\">\n",
              "      <th></th>\n",
              "      <th>img_id</th>\n",
              "      <th>rle_mask</th>\n",
              "    </tr>\n",
              "  </thead>\n",
              "  <tbody>\n",
              "    <tr>\n",
              "      <th>0</th>\n",
              "      <td>0</td>\n",
              "      <td>14623 2 15135 3 15647 3 16159 3 16671 3 17183 ...</td>\n",
              "    </tr>\n",
              "    <tr>\n",
              "      <th>1</th>\n",
              "      <td>1</td>\n",
              "      <td>89761 6 90268 15 90779 18 91290 19 91802 18 92...</td>\n",
              "    </tr>\n",
              "    <tr>\n",
              "      <th>2</th>\n",
              "      <td>2</td>\n",
              "      <td>12146 3 12658 3 13170 2 32817 2 33328 3 33840 ...</td>\n",
              "    </tr>\n",
              "    <tr>\n",
              "      <th>3</th>\n",
              "      <td>3</td>\n",
              "      <td>17 2 528 10 693 1 701 7 863 4 875 3 1033 3 103...</td>\n",
              "    </tr>\n",
              "    <tr>\n",
              "      <th>4</th>\n",
              "      <td>4</td>\n",
              "      <td>41482 1 41993 1 42501 1 43011 3 43523 2 45069 ...</td>\n",
              "    </tr>\n",
              "  </tbody>\n",
              "</table>\n",
              "</div>"
            ],
            "text/plain": [
              "   img_id                                           rle_mask\n",
              "0       0  14623 2 15135 3 15647 3 16159 3 16671 3 17183 ...\n",
              "1       1  89761 6 90268 15 90779 18 91290 19 91802 18 92...\n",
              "2       2  12146 3 12658 3 13170 2 32817 2 33328 3 33840 ...\n",
              "3       3  17 2 528 10 693 1 701 7 863 4 875 3 1033 3 103...\n",
              "4       4  41482 1 41993 1 42501 1 43011 3 43523 2 45069 ..."
            ]
          },
          "metadata": {
            "tags": []
          },
          "execution_count": 25
        }
      ]
    }
  ]
}